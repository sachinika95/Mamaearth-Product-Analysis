{
 "cells": [
  {
   "cell_type": "code",
   "execution_count": 1,
   "id": "7d387fbc-efba-452c-a49b-6d150fa0f06b",
   "metadata": {},
   "outputs": [
    {
     "name": "stderr",
     "output_type": "stream",
     "text": [
      "C:\\Users\\sachinika.pathirana_\\anaconda3\\lib\\site-packages\\spacy\\util.py:887: UserWarning: [W095] Model 'en_core_web_sm' (3.0.0) was trained with spaCy v3.0 and may not be 100% compatible with the current version (3.5.2). If you see errors or degraded performance, download a newer compatible model or retrain your custom model with the current spaCy version. For more details and available updates, run: python -m spacy validate\n",
      "  warnings.warn(warn_msg)\n"
     ]
    }
   ],
   "source": [
    "import spacy\n",
    "from rank_bm25 import BM25Okapi\n",
    "import en_core_web_sm\n",
    "import pandas as pd\n",
    "import time"
   ]
  },
  {
   "cell_type": "code",
   "execution_count": 2,
   "id": "fa9e705a-5f1f-44fb-9949-6b0c500f4af8",
   "metadata": {},
   "outputs": [],
   "source": [
    "nlp = spacy.load(r\"C:\\Users\\sachinika.pathirana_\\Desktop\\Personal\\Projects\\search_engine\\en_core_web_sm\\en_core_web_sm-3.0.0\")"
   ]
  },
  {
   "cell_type": "code",
   "execution_count": 3,
   "id": "5a0e7b9f-15fe-4417-a6de-0206a827e2e0",
   "metadata": {},
   "outputs": [],
   "source": [
    "df = pd.read_csv(\"Mamaearth.csv\")\n",
    "df = df.drop_duplicates()"
   ]
  },
  {
   "cell_type": "code",
   "execution_count": 4,
   "id": "8131dbfa-6dcf-4f4c-ab51-f3a1e7ada49d",
   "metadata": {},
   "outputs": [],
   "source": [
    "text_list = df.Product_Name.str.lower().values\n",
    "tok_text=[]"
   ]
  },
  {
   "cell_type": "code",
   "execution_count": 5,
   "id": "0c5a08f4-99b1-4a27-ac55-396217a4b37a",
   "metadata": {},
   "outputs": [
    {
     "name": "stderr",
     "output_type": "stream",
     "text": [
      "C:\\Users\\sachinika.pathirana_\\anaconda3\\lib\\site-packages\\spacy\\pipeline\\lemmatizer.py:211: UserWarning: [W108] The rule-based lemmatizer did not find POS annotation for one or more tokens. Check that your pipeline includes components that assign token.pos, typically 'tagger'+'attribute_ruler' or 'morphologizer'.\n",
      "  warnings.warn(Warnings.W108)\n"
     ]
    }
   ],
   "source": [
    "for doc in nlp.pipe(text_list, disable=[\"tagger\", \"parser\",\"ner\"]):\n",
    "    tok = [t.text for t in doc if t.is_alpha]\n",
    "    tok_text.append(tok)"
   ]
  },
  {
   "cell_type": "code",
   "execution_count": 6,
   "id": "5ecc27e5-3862-4c74-9f75-2fc2aca5933f",
   "metadata": {},
   "outputs": [],
   "source": [
    "bm25 = BM25Okapi(tok_text)"
   ]
  },
  {
   "cell_type": "code",
   "execution_count": 32,
   "id": "06f69699-a762-4c81-84fd-01826fad93e8",
   "metadata": {},
   "outputs": [
    {
     "name": "stdin",
     "output_type": "stream",
     "text": [
      "user: hair loss prevent\n"
     ]
    },
    {
     "name": "stdout",
     "output_type": "stream",
     "text": [
      "Onion Hair Oil for Hair Regrowth & Hair Fall Control\n"
     ]
    }
   ],
   "source": [
    "query= input(\"user:\")\n",
    "tokenized_query = query.lower().split(\" \")\n",
    "results = bm25.get_top_n(tokenized_query, df.Product_Name.values, n=1)\n",
    "for i in results:\n",
    "    print(i)"
   ]
  },
  {
   "cell_type": "code",
   "execution_count": null,
   "id": "f2cb64bd-ee26-48e0-87fc-fe90790f14a5",
   "metadata": {},
   "outputs": [],
   "source": []
  }
 ],
 "metadata": {
  "kernelspec": {
   "display_name": "Python 3 (ipykernel)",
   "language": "python",
   "name": "python3"
  },
  "language_info": {
   "codemirror_mode": {
    "name": "ipython",
    "version": 3
   },
   "file_extension": ".py",
   "mimetype": "text/x-python",
   "name": "python",
   "nbconvert_exporter": "python",
   "pygments_lexer": "ipython3",
   "version": "3.9.13"
  }
 },
 "nbformat": 4,
 "nbformat_minor": 5
}

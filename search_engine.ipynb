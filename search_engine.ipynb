{
 "cells": [
  {
   "cell_type": "code",
   "execution_count": 20,
   "id": "7d387fbc-efba-452c-a49b-6d150fa0f06b",
   "metadata": {},
   "outputs": [],
   "source": [
    "import spacy\n",
    "from rank_bm25 import BM25Okapi\n",
    "import en_core_web_sm\n",
    "import pandas as pd\n",
    "import time\n",
    "import numpy as np\n",
    "from collections import Counter\n",
    "from sklearn.feature_extraction.text import CountVectorizer\n",
    "from sklearn.metrics.pairwise import cosine_similarity\n",
    "from sklearn.metrics.pairwise import sigmoid_kernel"
   ]
  },
  {
   "cell_type": "code",
   "execution_count": 8,
   "id": "fa9e705a-5f1f-44fb-9949-6b0c500f4af8",
   "metadata": {},
   "outputs": [
    {
     "name": "stderr",
     "output_type": "stream",
     "text": [
      "C:\\Users\\sachinika.pathirana_\\anaconda3\\lib\\site-packages\\spacy\\util.py:887: UserWarning: [W095] Model 'en_core_web_sm' (3.0.0) was trained with spaCy v3.0 and may not be 100% compatible with the current version (3.5.2). If you see errors or degraded performance, download a newer compatible model or retrain your custom model with the current spaCy version. For more details and available updates, run: python -m spacy validate\n",
      "  warnings.warn(warn_msg)\n"
     ]
    }
   ],
   "source": [
    "nlp = spacy.load(r\"C:\\Users\\sachinika.pathirana_\\Desktop\\Personal\\Projects\\search_engine\\Mamaearth-Product-Analysis\\en_core_web_sm\\en_core_web_sm-3.0.0\")"
   ]
  },
  {
   "cell_type": "code",
   "execution_count": 9,
   "id": "5a0e7b9f-15fe-4417-a6de-0206a827e2e0",
   "metadata": {},
   "outputs": [],
   "source": [
    "df = pd.read_csv(\"Mamaearth.csv\")\n",
    "df = df.drop_duplicates()"
   ]
  },
  {
   "cell_type": "markdown",
   "id": "0b6d5d12-b69e-4d16-9c16-24917473f096",
   "metadata": {},
   "source": [
    "# Product Search (Sementic)"
   ]
  },
  {
   "cell_type": "code",
   "execution_count": 10,
   "id": "8131dbfa-6dcf-4f4c-ab51-f3a1e7ada49d",
   "metadata": {},
   "outputs": [],
   "source": [
    "text_list = df.Product_Name.str.lower().values\n",
    "tok_text=[]"
   ]
  },
  {
   "cell_type": "code",
   "execution_count": 11,
   "id": "0c5a08f4-99b1-4a27-ac55-396217a4b37a",
   "metadata": {},
   "outputs": [
    {
     "name": "stderr",
     "output_type": "stream",
     "text": [
      "C:\\Users\\sachinika.pathirana_\\anaconda3\\lib\\site-packages\\spacy\\pipeline\\lemmatizer.py:211: UserWarning: [W108] The rule-based lemmatizer did not find POS annotation for one or more tokens. Check that your pipeline includes components that assign token.pos, typically 'tagger'+'attribute_ruler' or 'morphologizer'.\n",
      "  warnings.warn(Warnings.W108)\n"
     ]
    }
   ],
   "source": [
    "for doc in nlp.pipe(text_list, disable=[\"tagger\", \"parser\",\"ner\"]):\n",
    "    tok = [t.text for t in doc if t.is_alpha]\n",
    "    tok_text.append(tok)"
   ]
  },
  {
   "cell_type": "code",
   "execution_count": 12,
   "id": "5ecc27e5-3862-4c74-9f75-2fc2aca5933f",
   "metadata": {},
   "outputs": [],
   "source": [
    "bm25 = BM25Okapi(tok_text)"
   ]
  },
  {
   "cell_type": "code",
   "execution_count": 16,
   "id": "06f69699-a762-4c81-84fd-01826fad93e8",
   "metadata": {},
   "outputs": [
    {
     "name": "stdin",
     "output_type": "stream",
     "text": [
      "user: hair loss\n"
     ]
    },
    {
     "name": "stdout",
     "output_type": "stream",
     "text": [
      "Onion Hair Oil for Hair Regrowth & Hair Fall Control\n"
     ]
    }
   ],
   "source": [
    "query= input(\"user:\")\n",
    "tokenized_query = query.lower().split(\" \")\n",
    "results = bm25.get_top_n(tokenized_query, df.Product_Name.values, n=1)\n",
    "for i in results:\n",
    "    print(i)"
   ]
  },
  {
   "cell_type": "markdown",
   "id": "70822d55-8fe0-4177-9298-76ab1790fc3a",
   "metadata": {},
   "source": [
    "# Product Recommendation"
   ]
  },
  {
   "cell_type": "code",
   "execution_count": 1,
   "id": "bdea206c-5729-4482-9c24-1d1382324840",
   "metadata": {},
   "outputs": [],
   "source": [
    "def get_type():\n",
    "    '''\n",
    "    answers: hair, skin, body\n",
    "    '''\n",
    "    type = input(\"Where do you have the problem?\")\n",
    "    type = \" \".join([\"\".join(n.split()) for n in type.lower().split(',')])\n",
    "    return type\n",
    "\n",
    "def get_major():\n",
    "    '''\n",
    "    answers: acne, glowing, hair fall\n",
    "    '''\n",
    "    major = input(\"what is the major concern?\")\n",
    "    major = \" \".join([\"\".join(n.split()) for n in major.lower().split(',')])\n",
    "    return major\n",
    "\n",
    "def get_product():\n",
    "    '''\n",
    "    answers : face wash, shampoo, serum\n",
    "    '''\n",
    "    product = input(\"What kind of product do you want?\")\n",
    "    product = \" \".join([\"\".join(n.split()) for n in product.lower().split(',')])\n",
    "    return product\n",
    "\n",
    "def get_searchTerms():\n",
    "  searchTerms = [] \n",
    "\n",
    "  type = get_type()\n",
    "  if type != 'skip':\n",
    "    searchTerms.append(type)\n",
    "\n",
    "  major = get_major()\n",
    "  if major != 'skip':\n",
    "    searchTerms.append(major)\n",
    "\n",
    "  product = get_product()\n",
    "  if product != 'skip':\n",
    "    searchTerms.append(product)\n",
    "    \n",
    "  return searchTerms"
   ]
  },
  {
   "cell_type": "code",
   "execution_count": 18,
   "id": "a7d7cfc8-c6e5-48aa-8216-0a78758a773d",
   "metadata": {},
   "outputs": [
    {
     "data": {
      "text/html": [
       "<div>\n",
       "<style scoped>\n",
       "    .dataframe tbody tr th:only-of-type {\n",
       "        vertical-align: middle;\n",
       "    }\n",
       "\n",
       "    .dataframe tbody tr th {\n",
       "        vertical-align: top;\n",
       "    }\n",
       "\n",
       "    .dataframe thead th {\n",
       "        text-align: right;\n",
       "    }\n",
       "</style>\n",
       "<table border=\"1\" class=\"dataframe\">\n",
       "  <thead>\n",
       "    <tr style=\"text-align: right;\">\n",
       "      <th></th>\n",
       "      <th>Product_Name</th>\n",
       "      <th>Tokens</th>\n",
       "    </tr>\n",
       "  </thead>\n",
       "  <tbody>\n",
       "    <tr>\n",
       "      <th>0</th>\n",
       "      <td>Tea Tree Facewash for acne &amp; pimples</td>\n",
       "      <td>tea tree facewash acne pimple</td>\n",
       "    </tr>\n",
       "    <tr>\n",
       "      <th>1</th>\n",
       "      <td>Anti Hair Fall Kit for complete hair care</td>\n",
       "      <td>anti hair fall kit complete hair care</td>\n",
       "    </tr>\n",
       "    <tr>\n",
       "      <th>2</th>\n",
       "      <td>Argan Hair Mask with Argan Avocado Oil and Mil...</td>\n",
       "      <td>argan hair mask argan avocado oil milk protein...</td>\n",
       "    </tr>\n",
       "    <tr>\n",
       "      <th>3</th>\n",
       "      <td>Ubtan Bamboo Sheet Mask with Turmeric &amp; Saffro...</td>\n",
       "      <td>ubtan bamboo sheet mask turmeric saffron skin ...</td>\n",
       "    </tr>\n",
       "    <tr>\n",
       "      <th>4</th>\n",
       "      <td>Niacinamide Bamboo Sheet Mask with Niacinamide...</td>\n",
       "      <td>niacinamide bamboo sheet mask niacinamide ging...</td>\n",
       "    </tr>\n",
       "  </tbody>\n",
       "</table>\n",
       "</div>"
      ],
      "text/plain": [
       "                                        Product_Name  \\\n",
       "0               Tea Tree Facewash for acne & pimples   \n",
       "1          Anti Hair Fall Kit for complete hair care   \n",
       "2  Argan Hair Mask with Argan Avocado Oil and Mil...   \n",
       "3  Ubtan Bamboo Sheet Mask with Turmeric & Saffro...   \n",
       "4  Niacinamide Bamboo Sheet Mask with Niacinamide...   \n",
       "\n",
       "                                              Tokens  \n",
       "0                      tea tree facewash acne pimple  \n",
       "1              anti hair fall kit complete hair care  \n",
       "2  argan hair mask argan avocado oil milk protein...  \n",
       "3  ubtan bamboo sheet mask turmeric saffron skin ...  \n",
       "4  niacinamide bamboo sheet mask niacinamide ging...  "
      ]
     },
     "execution_count": 18,
     "metadata": {},
     "output_type": "execute_result"
    }
   ],
   "source": [
    "data = df[[\"Product_Name\",\"Tokens\"]]\n",
    "data.head()"
   ]
  },
  {
   "cell_type": "markdown",
   "id": "04b6f567-aaf9-4593-a5bf-ef8f234f5b35",
   "metadata": {},
   "source": [
    "## Cosine Similarity"
   ]
  },
  {
   "cell_type": "code",
   "execution_count": 27,
   "id": "f23d9959-1df5-43bd-91dd-21d2a99c7fea",
   "metadata": {},
   "outputs": [
    {
     "name": "stdin",
     "output_type": "stream",
     "text": [
      "Where do you have the problem? skin\n",
      "what is the major concern? fairness\n",
      "What kind of product do you want? cream\n"
     ]
    },
    {
     "name": "stderr",
     "output_type": "stream",
     "text": [
      "C:\\Users\\sachinika.pathirana_\\AppData\\Local\\Temp\\ipykernel_36012\\3027457101.py:7: FutureWarning: The frame.append method is deprecated and will be removed from pandas in a future version. Use pandas.concat instead.\n",
      "  data = data.append(new_row)\n"
     ]
    },
    {
     "data": {
      "text/plain": [
       "['AntiPollution Daily Face Cream for Dry and Oily Skin with Turmeric and PollustopÂ® For a Bright Glowing Skin ',\n",
       " 'Vitamin C Face Cream with Vitamin C & SPF 20 for Skin Illumination',\n",
       " 'Skin Illuminate Face Serum for Radiant Skin with Vitamin C & Turmeric â€“']"
      ]
     },
     "execution_count": 27,
     "metadata": {},
     "output_type": "execute_result"
    }
   ],
   "source": [
    "def make_recommendation(data=data):\n",
    "  new_row = data.iloc[-1,:].copy() \n",
    "  \n",
    "  searchTerms = get_searchTerms()  \n",
    "  new_row.iloc[-1] = \" \".join(searchTerms) \n",
    "  \n",
    "  data = data.append(new_row)\n",
    "  \n",
    "  count = CountVectorizer(stop_words='english')\n",
    "  count_matrix = count.fit_transform(data['Tokens'])\n",
    "\n",
    "  cosine_sim2 = cosine_similarity(count_matrix, count_matrix) \n",
    "  #print(cosine_sim2)\n",
    "  \n",
    "  sim_scores = list(enumerate(cosine_sim2[-1,:]))\n",
    "  sim_scores = sorted(sim_scores, key=lambda x: x[1], reverse=True)\n",
    "  #print(sim_scores)\n",
    "\n",
    "  ranked_titles = []\n",
    "  for i in range(1, 4):\n",
    "    indx = sim_scores[i][0]\n",
    "    ranked_titles.append(data['Product_Name'].iloc[indx])\n",
    "  \n",
    "  return ranked_titles\n",
    "\n",
    "\n",
    "make_recommendation()"
   ]
  },
  {
   "cell_type": "markdown",
   "id": "962edf38-04d1-4dfe-b5df-dbe71bb119c4",
   "metadata": {},
   "source": [
    "## Sigmoid Kernal"
   ]
  },
  {
   "cell_type": "code",
   "execution_count": 29,
   "id": "7ad58542-39dc-4c69-a99d-3261259597f0",
   "metadata": {},
   "outputs": [
    {
     "name": "stdin",
     "output_type": "stream",
     "text": [
      "Where do you have the problem? skin\n",
      "what is the major concern? fairness\n",
      "What kind of product do you want? cream\n"
     ]
    },
    {
     "name": "stderr",
     "output_type": "stream",
     "text": [
      "C:\\Users\\sachinika.pathirana_\\AppData\\Local\\Temp\\ipykernel_36012\\3851944904.py:7: FutureWarning: The frame.append method is deprecated and will be removed from pandas in a future version. Use pandas.concat instead.\n",
      "  data = data.append(new_row)\n"
     ]
    },
    {
     "data": {
      "text/plain": [
       "['Hydrating Natural Body Lotion with Cucumber & Aloe Vera for Normal Skin ',\n",
       " 'Spotless Skin Combo: Ubtan Facewash  100ml and Bye Bye Blemishes Face Cream ',\n",
       " 'Vitamin C Face Cream with Vitamin C & SPF 20 for Skin Illumination']"
      ]
     },
     "execution_count": 29,
     "metadata": {},
     "output_type": "execute_result"
    }
   ],
   "source": [
    "def make_recommendation2(data=data):\n",
    "  new_row = data.iloc[-1,:].copy() \n",
    "  \n",
    "  searchTerms = get_searchTerms()  \n",
    "  new_row.iloc[-1] = \" \".join(searchTerms) \n",
    "  \n",
    "  data = data.append(new_row)\n",
    "  \n",
    "  count = CountVectorizer(stop_words='english')\n",
    "  count_matrix = count.fit_transform(data['Tokens'])\n",
    "\n",
    "  sig_sim2 = sigmoid_kernel(count_matrix, count_matrix) \n",
    "  #print(sig_sim2)\n",
    "  \n",
    "  sim_scores = list(enumerate(sig_sim2[-1,:]))\n",
    "  sim_scores = sorted(sim_scores, key=lambda x: x[1], reverse=True)\n",
    "  #print(sim_scores)\n",
    "\n",
    "  ranked_titles = []\n",
    "  for i in range(1, 4):\n",
    "    indx = sim_scores[i][0]\n",
    "    ranked_titles.append(data['Product_Name'].iloc[indx])\n",
    "  \n",
    "  return ranked_titles\n",
    "\n",
    "\n",
    "make_recommendation2()"
   ]
  },
  {
   "cell_type": "code",
   "execution_count": null,
   "id": "ab5ff416-b9a9-4da6-85b3-b30c4bcbbb5e",
   "metadata": {},
   "outputs": [],
   "source": []
  }
 ],
 "metadata": {
  "kernelspec": {
   "display_name": "Python 3 (ipykernel)",
   "language": "python",
   "name": "python3"
  },
  "language_info": {
   "codemirror_mode": {
    "name": "ipython",
    "version": 3
   },
   "file_extension": ".py",
   "mimetype": "text/x-python",
   "name": "python",
   "nbconvert_exporter": "python",
   "pygments_lexer": "ipython3",
   "version": "3.9.13"
  }
 },
 "nbformat": 4,
 "nbformat_minor": 5
}
